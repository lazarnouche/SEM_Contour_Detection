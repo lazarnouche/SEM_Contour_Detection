{
  "cells": [
    {
      "cell_type": "markdown",
      "metadata": {
        "id": "view-in-github",
        "colab_type": "text"
      },
      "source": [
        "<a href=\"https://colab.research.google.com/github/lazarnouche/SEM_Contour_Detection/blob/main/SEM_profile_detection_deeplabv3%2B.ipynb\" target=\"_parent\"><img src=\"https://colab.research.google.com/assets/colab-badge.svg\" alt=\"Open In Colab\"/></a>"
      ]
    },
    {
      "cell_type": "code",
      "execution_count": null,
      "metadata": {
        "colab": {
          "base_uri": "https://localhost:8080/"
        },
        "id": "tGgBEpqKEnV2",
        "outputId": "61377142-9773-410d-b4d1-909aa4156e67"
      },
      "outputs": [
        {
          "output_type": "stream",
          "name": "stdout",
          "text": [
            "The autoreload extension is already loaded. To reload it, use:\n",
            "  %reload_ext autoreload\n"
          ]
        }
      ],
      "source": [
        "%load_ext autoreload\n",
        "%autoreload 2"
      ]
    },
    {
      "cell_type": "code",
      "execution_count": null,
      "metadata": {
        "colab": {
          "base_uri": "https://localhost:8080/"
        },
        "id": "yOizpC1q4NxA",
        "outputId": "25e4ddfb-8f56-4b1f-eb9f-3aaa08fca54d"
      },
      "outputs": [
        {
          "output_type": "stream",
          "name": "stdout",
          "text": [
            "Mon Feb 19 18:44:25 2024       \n",
            "+---------------------------------------------------------------------------------------+\n",
            "| NVIDIA-SMI 535.104.05             Driver Version: 535.104.05   CUDA Version: 12.2     |\n",
            "|-----------------------------------------+----------------------+----------------------+\n",
            "| GPU  Name                 Persistence-M | Bus-Id        Disp.A | Volatile Uncorr. ECC |\n",
            "| Fan  Temp   Perf          Pwr:Usage/Cap |         Memory-Usage | GPU-Util  Compute M. |\n",
            "|                                         |                      |               MIG M. |\n",
            "|=========================================+======================+======================|\n",
            "|   0  NVIDIA A100-SXM4-40GB          Off | 00000000:00:04.0 Off |                    0 |\n",
            "| N/A   33C    P0              47W / 400W |    595MiB / 40960MiB |      0%      Default |\n",
            "|                                         |                      |             Disabled |\n",
            "+-----------------------------------------+----------------------+----------------------+\n",
            "                                                                                         \n",
            "+---------------------------------------------------------------------------------------+\n",
            "| Processes:                                                                            |\n",
            "|  GPU   GI   CI        PID   Type   Process name                            GPU Memory |\n",
            "|        ID   ID                                                             Usage      |\n",
            "|=======================================================================================|\n",
            "+---------------------------------------------------------------------------------------+\n"
          ]
        }
      ],
      "source": [
        "gpu_info = !nvidia-smi\n",
        "gpu_info = '\\n'.join(gpu_info)\n",
        "if gpu_info.find('failed') >= 0:\n",
        "  print('Not connected to a GPU')\n",
        "else:\n",
        "  print(gpu_info)"
      ]
    },
    {
      "cell_type": "code",
      "execution_count": null,
      "metadata": {
        "id": "lD9_fHIaw1LW"
      },
      "outputs": [],
      "source": [
        "# this variable will be used in `runner.train` and by default we disable FP16 mode\n",
        "is_fp16_used = False"
      ]
    },
    {
      "cell_type": "code",
      "execution_count": null,
      "metadata": {
        "colab": {
          "base_uri": "https://localhost:8080/"
        },
        "id": "4Um2LIb0Kh1l",
        "outputId": "c0333105-1163-49a8-955e-dabc16dca8f2"
      },
      "outputs": [
        {
          "output_type": "stream",
          "name": "stdout",
          "text": [
            "Drive already mounted at /content/drive; to attempt to forcibly remount, call drive.mount(\"/content/drive\", force_remount=True).\n"
          ]
        }
      ],
      "source": [
        "from google.colab import drive\n",
        "import os\n",
        "import json\n",
        "drive.mount('/content/drive')"
      ]
    },
    {
      "cell_type": "code",
      "execution_count": null,
      "metadata": {
        "id": "DEQSno3dKkeV"
      },
      "outputs": [],
      "source": [
        "PATH = \"/content/drive/Othercomputers/My MacBook Pro /context_chatbot/doc/untracked_files/SEM\"\n",
        "os.chdir(PATH)"
      ]
    },
    {
      "cell_type": "code",
      "execution_count": null,
      "metadata": {
        "id": "0ba22QbNg7l5"
      },
      "outputs": [],
      "source": [
        "import torch\n",
        "import torch.nn as nn\n",
        "import torchvision.transforms as tf\n",
        "import torchvision.models.segmentation\n",
        "import cv2\n",
        "from src.datasets import get_data_loaders,train_transforms,valid_transforms\n",
        "from src.datasets_extended import get_images_only,SegmentationDataset_Without_Mask_Images\n",
        "from src.utils import save_model, save_plots_valid_only\n",
        "from src.utils_extended import create_mask\n",
        "from src.engine_extended import train_model, validate_model\n",
        "from src.config import IMG_SIZE, LABEL_COLORS, Learning_Rate,BATCH_SIZE\n",
        "from torch.optim.lr_scheduler import MultiStepLR\n",
        "import matplotlib.pyplot as plt\n",
        "import numpy as np\n",
        "import random"
      ]
    },
    {
      "cell_type": "code",
      "source": [
        "seed = 42\n",
        "torch.manual_seed(seed)\n",
        "torch.cuda.manual_seed(seed)\n",
        "torch.backends.cudnn.deterministic = True\n",
        "torch.backends.cudnn.benchmark = True"
      ],
      "metadata": {
        "id": "gielYlJbrevB"
      },
      "execution_count": null,
      "outputs": []
    },
    {
      "cell_type": "code",
      "execution_count": null,
      "metadata": {
        "id": "3MnwWoDekIUr"
      },
      "outputs": [],
      "source": [
        "out_dir = os.path.join(PATH, 'outputs')\n",
        "out_dir_valid_preds = os.path.join(PATH, 'outputs', 'valid_preds')\n",
        "os.makedirs(out_dir, exist_ok=True)\n",
        "os.makedirs(out_dir_valid_preds, exist_ok=True)"
      ]
    },
    {
      "cell_type": "code",
      "source": [
        "root_path = 'split_data'"
      ],
      "metadata": {
        "id": "FrKQ7kMYhBSD"
      },
      "execution_count": null,
      "outputs": []
    },
    {
      "cell_type": "code",
      "execution_count": null,
      "metadata": {
        "id": "P0ly2rG-gGNh"
      },
      "outputs": [],
      "source": [
        "train_images, valid_images = get_images_only(\n",
        "    root_path='split_data'\n",
        ")"
      ]
    },
    {
      "cell_type": "code",
      "execution_count": null,
      "metadata": {
        "colab": {
          "base_uri": "https://localhost:8080/"
        },
        "id": "BtPSZ4a90xDK",
        "outputId": "02877bec-89d9-4a4b-b694-5f6e42d8a878"
      },
      "outputs": [
        {
          "output_type": "execute_result",
          "data": {
            "text/plain": [
              "(126, 13)"
            ]
          },
          "metadata": {},
          "execution_count": 40
        }
      ],
      "source": [
        "len(train_images) , len(valid_images)"
      ]
    },
    {
      "cell_type": "code",
      "execution_count": null,
      "metadata": {
        "id": "z4wlZmXCtkfT"
      },
      "outputs": [],
      "source": [
        "# transformImg=tf.Compose([tf.ToPILImage(), tf.ToTensor(),tf.Normalize((0.485, 0.456, 0.406), (0.229, 0.224, 0.225))])\n",
        "# transformAnn=tf.Compose([tf.ToPILImage(), tf.ToTensor()])\n",
        "transformImg=tf.Compose([tf.ToPILImage(),tf.Resize((IMG_SIZE,IMG_SIZE)), tf.ToTensor(),tf.Normalize((0.485, 0.456, 0.406), (0.229, 0.224, 0.225))])\n",
        "transformAnn=tf.Compose([tf.ToPILImage(),tf.Resize((IMG_SIZE,IMG_SIZE)), tf.ToTensor()])"
      ]
    },
    {
      "cell_type": "code",
      "execution_count": null,
      "metadata": {
        "colab": {
          "base_uri": "https://localhost:8080/"
        },
        "id": "75UOencWFrn5",
        "outputId": "0e6857cf-5b49-43e4-8306-29219b2a1e6d"
      },
      "outputs": [
        {
          "output_type": "stream",
          "name": "stderr",
          "text": [
            "/usr/local/lib/python3.10/dist-packages/torchvision/models/_utils.py:208: UserWarning: The parameter 'pretrained' is deprecated since 0.13 and may be removed in the future, please use 'weights' instead.\n",
            "  warnings.warn(\n",
            "/usr/local/lib/python3.10/dist-packages/torchvision/models/_utils.py:223: UserWarning: Arguments other than a weight enum or `None` for 'weights' are deprecated since 0.13 and may be removed in the future. The current behavior is equivalent to passing `weights=DeepLabV3_ResNet50_Weights.COCO_WITH_VOC_LABELS_V1`. You can also use `weights=DeepLabV3_ResNet50_Weights.DEFAULT` to get the most up-to-date weights.\n",
            "  warnings.warn(msg)\n"
          ]
        }
      ],
      "source": [
        "modelPath = os.path.join(PATH,\"models/model_EPOCH_40.torch\")\n",
        "\n",
        "device = torch.device('cuda') if torch.cuda.is_available() else torch.device('cpu')\n",
        "model = torchvision.models.segmentation.deeplabv3_resnet50(pretrained=True)\n",
        "model.classifier[4] = torch.nn.Conv2d(256, len(LABEL_COLORS), kernel_size=(1, 1), stride=(1, 1))\n",
        "model = model.to(device)  # Set net to GPU or CPU\n",
        "model.load_state_dict(torch.load(modelPath,map_location=torch.device('cpu'))) # Load trained model\n",
        "\n",
        "\n",
        "optimizer=torch.optim.Adam(params=model.parameters(),lr=Learning_Rate) # Create adam optimizer"
      ]
    },
    {
      "cell_type": "code",
      "execution_count": null,
      "metadata": {
        "id": "44k-QdNRHKiD"
      },
      "outputs": [],
      "source": [
        "train_tfms = train_transforms(IMG_SIZE)\n",
        "valid_tfms = valid_transforms(IMG_SIZE)\n",
        "\n",
        "train_dataset = SegmentationDataset_Without_Mask_Images(train_images,train_tfms,transformImg,transformAnn)\n",
        "valid_dataset = SegmentationDataset_Without_Mask_Images(valid_images,valid_tfms,transformImg,transformAnn)"
      ]
    },
    {
      "cell_type": "code",
      "source": [
        "im_path = os.path.join(train_dataset.image_paths[0])\n",
        "img_path_root = os.path.join('images',os.path.split(im_path)[1])\n",
        "image, mask, label =  create_mask(img_path_root)"
      ],
      "metadata": {
        "id": "gp_CtrVDpcQs"
      },
      "execution_count": null,
      "outputs": []
    },
    {
      "cell_type": "code",
      "execution_count": null,
      "metadata": {
        "id": "2G1dY4rsHjkh"
      },
      "outputs": [],
      "source": [
        "def diplay_image_and_mask(dataset,data_transforms):\n",
        "\n",
        "  idx = random.randrange(len(dataset))\n",
        "  image,mask = dataset.__getitem__(idx)\n",
        "  fig, ax = plt.subplots(1,2)\n",
        "  image_normalized = cv2.normalize(image.numpy().transpose((1, 2, 0)), None, 0.0, 1.0, cv2.NORM_MINMAX)\n",
        "  image_normalized_scaled = (image_normalized * 255).astype('uint8')\n",
        "  ax[0].imshow(image_normalized_scaled)\n",
        "  ax[1].imshow(mask.numpy())\n",
        "  [ax_.axis(\"off\") for ax_ in ax]"
      ]
    },
    {
      "cell_type": "code",
      "execution_count": null,
      "metadata": {
        "colab": {
          "base_uri": "https://localhost:8080/",
          "height": 262
        },
        "id": "aqk4SbPsIbX6",
        "outputId": "977f509b-3c51-4f18-a157-f55ca827c70d"
      },
      "outputs": [
        {
          "output_type": "display_data",
          "data": {
            "text/plain": [
              "<Figure size 640x480 with 2 Axes>"
            ],
            "image/png": "[encoded data removed]"
          },
          "metadata": {}
        }
      ],
      "source": [
        "diplay_image_and_mask(valid_dataset,valid_transforms)"
      ]
    },
    {
      "cell_type": "code",
      "execution_count": null,
      "metadata": {
        "id": "fcH0yynlIR-8",
        "colab": {
          "base_uri": "https://localhost:8080/",
          "height": 262
        },
        "outputId": "269efff8-4b89-473d-fa85-c9a79adbbfc0"
      },
      "outputs": [
        {
          "output_type": "display_data",
          "data": {
            "text/plain": [
              "<Figure size 640x480 with 2 Axes>"
            ],
            "image/png": "[encoded data removed]"
          },
          "metadata": {}
        }
      ],
      "source": [
        "diplay_image_and_mask(train_dataset,train_transforms)"
      ]
    },
    {
      "cell_type": "code",
      "execution_count": null,
      "metadata": {
        "id": "MTRANpE2Ixsd"
      },
      "outputs": [],
      "source": [
        "train_dataloader, valid_dataloader = get_data_loaders(\n",
        "        train_dataset, valid_dataset, batch_size=BATCH_SIZE\n",
        "    )"
      ]
    },
    {
      "cell_type": "code",
      "source": [
        "len(valid_dataloader) ,len(train_dataloader)"
      ],
      "metadata": {
        "colab": {
          "base_uri": "https://localhost:8080/"
        },
        "id": "XGL-oKeyOC25",
        "outputId": "c5575da9-e953-479d-d53c-efe4600c70f7"
      },
      "execution_count": null,
      "outputs": [
        {
          "output_type": "execute_result",
          "data": {
            "text/plain": [
              "(3, 31)"
            ]
          },
          "metadata": {},
          "execution_count": 49
        }
      ]
    },
    {
      "cell_type": "code",
      "execution_count": null,
      "metadata": {
        "colab": {
          "base_uri": "https://localhost:8080/",
          "height": 1000
        },
        "id": "nELP7KH8Iy78",
        "outputId": "1d6af357-6fb4-444d-ed28-a453b1e7d067"
      },
      "outputs": [
        {
          "output_type": "stream",
          "name": "stdout",
          "text": [
            "EPOCH: 1\n"
          ]
        },
        {
          "output_type": "stream",
          "name": "stderr",
          "text": [
            "|                    | 31/? [04:18<00:00,  8.33s/it]\n",
            " 75%|███████████████     | 3/4 [00:13<00:04,  4.59s/it]\n"
          ]
        },
        {
          "output_type": "stream",
          "name": "stdout",
          "text": [
            "1 train loss: 0.3807505460516099, valid loss: 0.32200975219408673 \n",
            "EPOCH: 2\n"
          ]
        },
        {
          "output_type": "stream",
          "name": "stderr",
          "text": [
            "|                    | 31/? [00:38<00:00,  1.25s/it]\n",
            " 75%|███████████████     | 3/4 [00:00<00:00,  3.89it/s]\n"
          ]
        },
        {
          "output_type": "stream",
          "name": "stdout",
          "text": [
            "2 train loss: 0.34360444209268015, valid loss: 0.32861092686653137 \n",
            "EPOCH: 3\n"
          ]
        },
        {
          "output_type": "stream",
          "name": "stderr",
          "text": [
            "|                    | 31/? [00:39<00:00,  1.26s/it]\n",
            " 75%|███████████████     | 3/4 [00:00<00:00,  3.97it/s]\n"
          ]
        },
        {
          "output_type": "stream",
          "name": "stdout",
          "text": [
            "3 train loss: 0.330903850255474, valid loss: 0.31923309961954754 \n",
            "EPOCH: 4\n"
          ]
        },
        {
          "output_type": "stream",
          "name": "stderr",
          "text": [
            "|                    | 31/? [00:39<00:00,  1.27s/it]\n",
            " 75%|███████████████     | 3/4 [00:00<00:00,  4.08it/s]\n"
          ]
        },
        {
          "output_type": "stream",
          "name": "stdout",
          "text": [
            "4 train loss: 0.3248387075239612, valid loss: 0.3092366059621175 \n",
            "EPOCH: 5\n"
          ]
        },
        {
          "output_type": "stream",
          "name": "stderr",
          "text": [
            "|                    | 31/? [00:38<00:00,  1.26s/it]\n",
            " 75%|███████████████     | 3/4 [00:00<00:00,  4.09it/s]\n"
          ]
        },
        {
          "output_type": "stream",
          "name": "stdout",
          "text": [
            "5 train loss: 0.313297156364687, valid loss: 0.3131834069887797 \n",
            "EPOCH: 6\n"
          ]
        },
        {
          "output_type": "stream",
          "name": "stderr",
          "text": [
            "|                    | 31/? [00:38<00:00,  1.26s/it]\n",
            " 75%|███████████████     | 3/4 [00:00<00:00,  4.06it/s]\n"
          ]
        },
        {
          "output_type": "stream",
          "name": "stdout",
          "text": [
            "6 train loss: 0.29836327414358815, valid loss: 0.30726637442906696 \n",
            "EPOCH: 7\n"
          ]
        },
        {
          "output_type": "stream",
          "name": "stderr",
          "text": [
            "|                    | 31/? [00:39<00:00,  1.26s/it]\n",
            " 75%|███████████████     | 3/4 [00:00<00:00,  3.96it/s]\n"
          ]
        },
        {
          "output_type": "stream",
          "name": "stdout",
          "text": [
            "7 train loss: 0.28300474199556536, valid loss: 0.2917994906504949 \n",
            "EPOCH: 8\n"
          ]
        },
        {
          "output_type": "stream",
          "name": "stderr",
          "text": [
            "|                    | 31/? [00:39<00:00,  1.27s/it]\n",
            " 75%|███████████████     | 3/4 [00:00<00:00,  3.95it/s]\n"
          ]
        },
        {
          "output_type": "stream",
          "name": "stdout",
          "text": [
            "8 train loss: 0.2849881788415293, valid loss: 0.28937895596027374 \n",
            "EPOCH: 9\n"
          ]
        },
        {
          "output_type": "stream",
          "name": "stderr",
          "text": [
            "|                    | 31/? [00:39<00:00,  1.26s/it]\n",
            " 75%|███████████████     | 3/4 [00:00<00:00,  3.92it/s]\n"
          ]
        },
        {
          "output_type": "stream",
          "name": "stdout",
          "text": [
            "9 train loss: 0.2734008239161584, valid loss: 0.2862207293510437 \n",
            "EPOCH: 10\n"
          ]
        },
        {
          "output_type": "stream",
          "name": "stderr",
          "text": [
            "|                    | 31/? [00:38<00:00,  1.26s/it]\n",
            " 75%|███████████████     | 3/4 [00:00<00:00,  3.97it/s]\n"
          ]
        },
        {
          "output_type": "stream",
          "name": "stdout",
          "text": [
            "10 train loss: 0.26688048003181336, valid loss: 0.2883940289417903 \n",
            "EPOCH: 11\n"
          ]
        },
        {
          "output_type": "stream",
          "name": "stderr",
          "text": [
            "|                    | 31/? [00:38<00:00,  1.26s/it]\n",
            " 75%|███████████████     | 3/4 [00:00<00:00,  4.04it/s]\n"
          ]
        },
        {
          "output_type": "stream",
          "name": "stdout",
          "text": [
            "11 train loss: 0.25681244750176707, valid loss: 0.27389077345530194 \n",
            "EPOCH: 12\n"
          ]
        },
        {
          "output_type": "stream",
          "name": "stderr",
          "text": [
            "|                    | 31/? [00:39<00:00,  1.26s/it]\n",
            " 75%|███████████████     | 3/4 [00:00<00:00,  4.03it/s]\n"
          ]
        },
        {
          "output_type": "stream",
          "name": "stdout",
          "text": [
            "12 train loss: 0.2433759243257584, valid loss: 0.26119260986646015 \n",
            "EPOCH: 13\n"
          ]
        },
        {
          "output_type": "stream",
          "name": "stderr",
          "text": [
            "|                    | 31/? [00:38<00:00,  1.25s/it]\n",
            " 75%|███████████████     | 3/4 [00:00<00:00,  4.02it/s]\n"
          ]
        },
        {
          "output_type": "stream",
          "name": "stdout",
          "text": [
            "13 train loss: 0.23819880956603634, valid loss: 0.25822216272354126 \n",
            "EPOCH: 14\n"
          ]
        },
        {
          "output_type": "stream",
          "name": "stderr",
          "text": [
            "|                    | 31/? [00:38<00:00,  1.25s/it]\n",
            " 75%|███████████████     | 3/4 [00:00<00:00,  4.03it/s]\n"
          ]
        },
        {
          "output_type": "stream",
          "name": "stdout",
          "text": [
            "14 train loss: 0.2367374848934912, valid loss: 0.2598932534456253 \n",
            "EPOCH: 15\n"
          ]
        },
        {
          "output_type": "stream",
          "name": "stderr",
          "text": [
            "|                    | 31/? [00:39<00:00,  1.26s/it]\n",
            " 75%|███████████████     | 3/4 [00:00<00:00,  3.97it/s]\n"
          ]
        },
        {
          "output_type": "stream",
          "name": "stdout",
          "text": [
            "15 train loss: 0.22480500561575736, valid loss: 0.24505447844664255 \n",
            "EPOCH: 16\n"
          ]
        },
        {
          "output_type": "stream",
          "name": "stderr",
          "text": [
            "|                    | 31/? [00:39<00:00,  1.28s/it]\n",
            " 75%|███████████████     | 3/4 [00:00<00:00,  4.11it/s]\n"
          ]
        },
        {
          "output_type": "stream",
          "name": "stdout",
          "text": [
            "16 train loss: 0.225845625323634, valid loss: 0.25885990758736926 \n",
            "EPOCH: 17\n"
          ]
        },
        {
          "output_type": "stream",
          "name": "stderr",
          "text": [
            "|                    | 31/? [00:38<00:00,  1.25s/it]\n",
            " 75%|███████████████     | 3/4 [00:00<00:00,  3.95it/s]\n"
          ]
        },
        {
          "output_type": "stream",
          "name": "stdout",
          "text": [
            "17 train loss: 0.2152544832037341, valid loss: 0.2564438929160436 \n",
            "EPOCH: 18\n"
          ]
        },
        {
          "output_type": "stream",
          "name": "stderr",
          "text": [
            "|                    | 31/? [00:39<00:00,  1.27s/it]\n",
            " 75%|███████████████     | 3/4 [00:00<00:00,  4.01it/s]\n"
          ]
        },
        {
          "output_type": "stream",
          "name": "stdout",
          "text": [
            "18 train loss: 0.20963720688896795, valid loss: 0.24269278347492218 \n",
            "EPOCH: 19\n"
          ]
        },
        {
          "output_type": "stream",
          "name": "stderr",
          "text": [
            "|                    | 31/? [00:38<00:00,  1.25s/it]\n",
            " 75%|███████████████     | 3/4 [00:00<00:00,  3.94it/s]\n"
          ]
        },
        {
          "output_type": "stream",
          "name": "stdout",
          "text": [
            "19 train loss: 0.21305087449089175, valid loss: 0.22140511373678842 \n",
            "EPOCH: 20\n"
          ]
        },
        {
          "output_type": "stream",
          "name": "stderr",
          "text": [
            "|                    | 31/? [00:39<00:00,  1.27s/it]\n",
            " 75%|███████████████     | 3/4 [00:00<00:00,  3.87it/s]\n"
          ]
        },
        {
          "output_type": "stream",
          "name": "stdout",
          "text": [
            "20 train loss: 0.21163813385271257, valid loss: 0.24614685773849487 \n",
            "EPOCH: 21\n"
          ]
        },
        {
          "output_type": "stream",
          "name": "stderr",
          "text": [
            "|                    | 31/? [00:38<00:00,  1.26s/it]\n",
            " 75%|███████████████     | 3/4 [00:00<00:00,  3.98it/s]\n"
          ]
        },
        {
          "output_type": "stream",
          "name": "stdout",
          "text": [
            "21 train loss: 0.20073623378430644, valid loss: 0.2268837442000707 \n",
            "EPOCH: 22\n"
          ]
        },
        {
          "output_type": "stream",
          "name": "stderr",
          "text": [
            "|                    | 31/? [00:38<00:00,  1.24s/it]\n",
            " 75%|███████████████     | 3/4 [00:00<00:00,  4.02it/s]\n"
          ]
        },
        {
          "output_type": "stream",
          "name": "stdout",
          "text": [
            "22 train loss: 0.18908169769471692, valid loss: 0.2261132001876831 \n",
            "EPOCH: 23\n"
          ]
        },
        {
          "output_type": "stream",
          "name": "stderr",
          "text": [
            "|                    | 31/? [00:39<00:00,  1.26s/it]\n",
            " 75%|███████████████     | 3/4 [00:00<00:00,  3.97it/s]\n"
          ]
        },
        {
          "output_type": "stream",
          "name": "stdout",
          "text": [
            "23 train loss: 0.18618350644265452, valid loss: 0.2208713193734487 \n",
            "EPOCH: 24\n"
          ]
        },
        {
          "output_type": "stream",
          "name": "stderr",
          "text": [
            "|                    | 31/? [00:39<00:00,  1.27s/it]\n",
            " 75%|███████████████     | 3/4 [00:00<00:00,  4.13it/s]\n"
          ]
        },
        {
          "output_type": "stream",
          "name": "stdout",
          "text": [
            "24 train loss: 0.1858750533673071, valid loss: 0.2232882728179296 \n",
            "EPOCH: 25\n"
          ]
        },
        {
          "output_type": "stream",
          "name": "stderr",
          "text": [
            "|                    | 31/? [00:38<00:00,  1.25s/it]\n",
            " 75%|███████████████     | 3/4 [00:00<00:00,  4.08it/s]\n"
          ]
        },
        {
          "output_type": "stream",
          "name": "stdout",
          "text": [
            "25 train loss: 0.17683548792715995, valid loss: 0.20610939462979636 \n",
            "EPOCH: 26\n"
          ]
        },
        {
          "output_type": "stream",
          "name": "stderr",
          "text": [
            "|                    | 31/? [00:38<00:00,  1.26s/it]\n",
            " 75%|███████████████     | 3/4 [00:00<00:00,  3.88it/s]\n"
          ]
        },
        {
          "output_type": "stream",
          "name": "stdout",
          "text": [
            "26 train loss: 0.17726682222658588, valid loss: 0.20668719708919525 \n",
            "EPOCH: 27\n"
          ]
        },
        {
          "output_type": "stream",
          "name": "stderr",
          "text": [
            "|                    | 31/? [00:38<00:00,  1.26s/it]\n",
            " 75%|███████████████     | 3/4 [00:00<00:00,  4.03it/s]\n"
          ]
        },
        {
          "output_type": "stream",
          "name": "stdout",
          "text": [
            "27 train loss: 0.17409830732691672, valid loss: 0.20471482972304025 \n",
            "EPOCH: 28\n"
          ]
        },
        {
          "output_type": "stream",
          "name": "stderr",
          "text": [
            "|                    | 31/? [00:38<00:00,  1.25s/it]\n",
            " 75%|███████████████     | 3/4 [00:00<00:00,  4.00it/s]\n"
          ]
        },
        {
          "output_type": "stream",
          "name": "stdout",
          "text": [
            "28 train loss: 0.18042458786118415, valid loss: 0.22906136512756348 \n",
            "EPOCH: 29\n"
          ]
        },
        {
          "output_type": "stream",
          "name": "stderr",
          "text": [
            "|                    | 31/? [00:38<00:00,  1.26s/it]\n",
            " 75%|███████████████     | 3/4 [00:00<00:00,  3.85it/s]\n"
          ]
        },
        {
          "output_type": "stream",
          "name": "stdout",
          "text": [
            "29 train loss: 0.17138807571703388, valid loss: 0.1974210093418757 \n",
            "EPOCH: 30\n"
          ]
        },
        {
          "output_type": "stream",
          "name": "stderr",
          "text": [
            "|                    | 31/? [00:39<00:00,  1.27s/it]\n",
            " 75%|███████████████     | 3/4 [00:00<00:00,  4.03it/s]\n"
          ]
        },
        {
          "output_type": "stream",
          "name": "stdout",
          "text": [
            "30 train loss: 0.163953959941864, valid loss: 0.1968231052160263 \n"
          ]
        },
        {
          "output_type": "display_data",
          "data": {
            "text/plain": [
              "<Figure size 1000x700 with 1 Axes>"
            ],
            "image/png": "[encoded data removed]"
          },
          "metadata": {}
        }
      ],
      "source": [
        "EPOCHS = 30\n",
        "name = '19_feb'\n",
        "train_loss,valid_loss = [], []\n",
        "criterion = torch.nn.CrossEntropyLoss()\n",
        "for epoch in range(EPOCHS):\n",
        "  print(f\"EPOCH: {epoch + 1}\")\n",
        "  train_epoch_loss = train_model(model,train_dataloader,device,optimizer,criterion)\n",
        "  valid_epoch_loss = validate_model(model,valid_dataloader,device,criterion)\n",
        "  print(epoch + 1,f\"train loss: {train_epoch_loss}, valid loss: {valid_epoch_loss} \" )\n",
        "  if epoch % 10 == 0:\n",
        "    torch.save(model.state_dict(),   PATH+ os.sep+\"models/model_EPOCH_\"+name+\"_\"+str(epoch) + \".torch\")\n",
        "  train_loss.append(train_epoch_loss)\n",
        "  valid_loss.append(valid_epoch_loss)\n",
        "save_plots_valid_only(train_loss, valid_loss,PATH+ os.sep+\"models\")"
      ]
    },
    {
      "cell_type": "code",
      "source": [
        "torch.save(model.state_dict(),   PATH+ os.sep+\"models/model_EPOCH_\"+name+\"_\"+str(epoch) + \".torch\")"
      ],
      "metadata": {
        "id": "8773Wqryip-3"
      },
      "execution_count": null,
      "outputs": []
    },
    {
      "cell_type": "code",
      "source": [
        "# for epoch in range(20,EPOCHS+30,1):\n",
        "#   print(f\"EPOCH: {epoch + 1}\")\n",
        "#   train_epoch_loss = train(Net,train_dataloader,device,optimizer,criterion)\n",
        "#   valid_epoch_loss = validate(Net,valid_dataloader,device,criterion)\n",
        "#   print(epoch + 1,f\"train loss: {train_epoch_loss}, valid loss: {valid_epoch_loss} \" )\n",
        "#   if epoch % 10 == 0:\n",
        "#     torch.save(Net.state_dict(),   PATH+ os.sep+\"models/model_EPOCH_\"+str(epoch) + \".torch\")\n",
        "#   train_loss.append(train_epoch_loss)\n",
        "#   valid_loss.append(valid_epoch_loss)\n",
        "# save_plots(train_loss, valid_loss,PATH+ os.sep+\"models\")"
      ],
      "metadata": {
        "id": "KKadkah7cd2R"
      },
      "execution_count": null,
      "outputs": []
    },
    {
      "cell_type": "code",
      "execution_count": null,
      "metadata": {
        "id": "GURssel5Zd6E"
      },
      "outputs": [],
      "source": [
        "# prog_bar = tqdm(train_dataloader, total=BATCH_SIZE, bar_format='{l_bar}{bar:20}{r_bar}{bar:-20b}')\n",
        "#   counter = 0\n",
        "#   train_running_loss = 0.0\n",
        "#   for i, data in enumerate(prog_bar):\n",
        "#       counter += 1\n",
        "#       images, ann = data[0].to(device), data[1].to(device)\n",
        "#       images=torch.autograd.Variable(images,requires_grad=False).to(device) # Load image\n",
        "#       ann = torch.autograd.Variable(ann, requires_grad=False).to(device) # Load annotation\n",
        "#       Pred=Net(images)['out'] # make prediction\n",
        "#       Net.zero_grad()\n",
        "#       # criterion = torch.nn.CrossEntropyLoss() # Set loss function\n",
        "#       train_loss=criterion(Pred,ann.long()) # Calculate cross entropy loss\n",
        "#       train_loss.backward() # Backpropogate loss\n",
        "#       optimizer.step() # Apply gradient descent change to weight\n",
        "#       seg = torch.argmax(Pred[0], 0).cpu().detach().numpy()  # Get  prediction classes\n",
        "#       train_running_loss += train_loss.item()"
      ]
    },
    {
      "cell_type": "code",
      "execution_count": null,
      "metadata": {
        "id": "Q7WlZGgyXeSU"
      },
      "outputs": [],
      "source": [
        "# def ReadRandomImage(data_images,transforms):\n",
        "\n",
        "#   idx=np.random.randint(0,len(data_images)) # Pick random image\n",
        "#   im_path = os.path.join(PATH,data_images[idx])\n",
        "#   img_path_root = os.path.join(PATH,'images',os.path.split(im_path)[1])\n",
        "#   image, mask, label =  create_mask(img_path_root)\n",
        "#   tfms = transforms(IMG_SIZE)\n",
        "#   transformed = tfms(image=image, mask=mask)\n",
        "#   image = transformed['image']\n",
        "#   mask = transformed['mask']\n",
        "\n",
        "#   AnnMap = np.zeros(image.shape[0:2],np.float32) # Segmentation map\n",
        "#   if label ==\"cross\":  AnnMap[ mask == 255 ] = 1\n",
        "#   elif label ==\"tsv\":  AnnMap[ mask  == 255 ] = 2\n",
        "#   else:  AnnMap[ mask  == 255 ] = 3\n",
        "\n",
        "#   Img=transformImg(image)\n",
        "#   AnnMap=transformAnn(AnnMap)\n",
        "\n",
        "#   return Img,AnnMap"
      ]
    },
    {
      "cell_type": "code",
      "execution_count": null,
      "metadata": {
        "id": "x_bXVFgPwgbT"
      },
      "outputs": [],
      "source": [
        "# def LoadBatch(data_images,transforms): # Load batch of images\n",
        "#     images = torch.zeros([BATCH_SIZE,3,IMG_SIZE,IMG_SIZE])\n",
        "#     ann = torch.zeros([BATCH_SIZE, IMG_SIZE, IMG_SIZE])\n",
        "\n",
        "#     for i in range(BATCH_SIZE):\n",
        "#         images[i],ann[i]=ReadRandomImage(data_images,transforms)\n",
        "\n",
        "#     return images, ann"
      ]
    },
    {
      "cell_type": "code",
      "execution_count": null,
      "metadata": {
        "id": "fLjDj-z843Kp"
      },
      "outputs": [],
      "source": [
        "# def LoadValid(data_images,transforms,valid_batch_size):\n",
        "#     images = torch.zeros([valid_batch_size,3,IMG_SIZE,IMG_SIZE])\n",
        "#     ann = torch.zeros([valid_batch_size, IMG_SIZE, IMG_SIZE])\n",
        "\n",
        "#     for i in range(valid_batch_size):\n",
        "#         images[i],ann[i]=ReadRandomImage(data_images,transforms)\n",
        "\n",
        "#     return images, ann"
      ]
    },
    {
      "cell_type": "code",
      "execution_count": null,
      "metadata": {
        "id": "aZK8O6tIoQv8"
      },
      "outputs": [],
      "source": [
        "# def diplay_image_and_mask(data_images,data_transforms):\n",
        "#   image,mask = ReadRandomImage(data_images,data_transforms)\n",
        "#   print(mask.shape)\n",
        "#   fig, ax = plt.subplots(1,2)\n",
        "#   image = image.numpy().transpose((1, 2, 0))\n",
        "#   image_normalized = cv2.normalize(image, None, 0.0, 1.0, cv2.NORM_MINMAX)\n",
        "#   # Scale the image to the range [0, 255]\n",
        "#   image_normalized_scaled = (image_normalized * 255).astype('uint8')\n",
        "#   mask = mask.numpy()\n",
        "#   ax[0].imshow(image_normalized_scaled)\n",
        "#   ax[1].imshow(mask[0,:,:])\n",
        "#   [ax_.axis(\"off\") for ax_ in ax]"
      ]
    },
    {
      "cell_type": "code",
      "execution_count": null,
      "metadata": {
        "id": "D_gvtcm-0mO8"
      },
      "outputs": [],
      "source": [
        "# diplay_image_and_mask(train_images,train_transforms)"
      ]
    },
    {
      "cell_type": "code",
      "execution_count": null,
      "metadata": {
        "id": "4zBmp_le9kfU"
      },
      "outputs": [],
      "source": [
        "# torch.cuda.empty_cache()"
      ]
    },
    {
      "cell_type": "code",
      "execution_count": null,
      "metadata": {
        "id": "NBxvnvZ-tiux"
      },
      "outputs": [],
      "source": [
        "# for itr in range(10000): # Training loop\n",
        "#    images,ann=LoadBatch(train_images,train_transforms) # Load taining batch\n",
        "#    images=torch.autograd.Variable(images,requires_grad=False).to(device) # Load image\n",
        "#    print(images.shape)\n",
        "#    ann = torch.autograd.Variable(ann, requires_grad=False).to(device) # Load annotation\n",
        "#    Pred=Net(images)['out'] # make prediction\n",
        "#    Net.zero_grad()\n",
        "#    criterion = torch.nn.CrossEntropyLoss() # Set loss function\n",
        "#    train_loss=criterion(Pred,ann.long()) # Calculate cross entropy loss\n",
        "#    train_loss.backward() # Backpropogate loss\n",
        "#    optimizer.step() # Apply gradient descent change to weight\n",
        "#    seg = torch.argmax(Pred[0], 0).cpu().detach().numpy()  # Get  prediction classes\n",
        "\n",
        "#    val_images,val_ann = LoadValid(valid_images,valid_transforms)\n",
        "#    val_images = torch.autograd.Variable(val_images, requires_grad=False).to(device)\n",
        "#    val_ann = torch.autograd.Variable(val_ann, requires_grad=False).to(device)\n",
        "#    val_Pred = Net(val_images)['out']\n",
        "#    val_loss=criterion(val_Pred, val_ann.long())\n",
        "\n",
        "#    print(itr,f\"train loss: {train_loss.data.cpu().numpy()}, valid loss: {val_loss.data.cpu().numpy()} \" )\n",
        "#    if itr % 2 == 0: #Save model weight once every 60k steps permenant file\n",
        "#         # print(\"Saving Model\" +str(itr) + \".torch\")\n",
        "#         # da = str(datetime.datetime.now()).split('.')[0]\n",
        "#         torch.save(Net.state_dict(),   path+ os.sep+\"models/model_iter_\"+str(itr) + \".torch\")"
      ]
    },
    {
      "cell_type": "code",
      "execution_count": null,
      "metadata": {
        "id": "Og-IehZTFs_x"
      },
      "outputs": [],
      "source": [
        "# from tqdm import tqdm\n",
        "# from src.metrics import IOUEval\n",
        "\n",
        "# def train(model,train_dataloader,device,optimizer,criterion,label_color):\n",
        "\n",
        "#   prog_bar = tqdm(train_dataloader, total=BATCH_SIZE, bar_format='{l_bar}{bar:20}{r_bar}{bar:-20b}')\n",
        "#   counter = 0\n",
        "#   train_running_loss = 0.0\n",
        "#   iou_eval = IOUEval(len(label_color))\n",
        "#   for i, data in enumerate(prog_bar):\n",
        "#       counter += 1\n",
        "#       data, target = data[0].to(device), data[1].to(device)\n",
        "#       data = torch.autograd.Variable(data, requires_grad=False).to(device) # Load image\n",
        "#       ann = torch.autograd.Variable(target, requires_grad=False).to(device) # Load annotation\n",
        "#       ann = ann.squeeze()\n",
        "#       outputs = model(data)['out'] # make prediction\n",
        "#       model.zero_grad()\n",
        "#       # criterion = torch.nn.CrossEntropyLoss() # Set loss function\n",
        "#       loss = criterion(outputs, ann.long()) # Calculate cross entropy loss\n",
        "#       train_running_loss += loss.item()\n",
        "\n",
        "#       loss.backward() # Backpropagate loss\n",
        "#       optimizer.step() # Apply gradient descent change to weight\n",
        "#       seg = torch.argmax(outputs[0], 0).cpu().detach().numpy()  # Get prediction classes\n",
        "#       print(\"training Loss :\", loss.data.cpu().numpy())\n",
        "#       # iou_eval.addBatch(outputs.max(1)[1].data, target.data)\n",
        "#   train_loss = train_running_loss / counter\n",
        "#   # overall_acc, per_class_acc, per_class_iu, mIOU = iou_eval.getMetric()\n",
        "\n",
        "#   return train_loss"
      ]
    },
    {
      "cell_type": "code",
      "execution_count": null,
      "metadata": {
        "id": "BJz0FXv3UCEY"
      },
      "outputs": [],
      "source": [
        "# from src.utils import draw_translucent_seg_maps\n",
        "\n",
        "# def validate(model,valid_dataloader,device,criterion,label_color,epoch,save_dir):\n",
        "\n",
        "#   prog_bar = tqdm(valid_dataloader, total=BATCH_SIZE, bar_format='{l_bar}{bar:20}{r_bar}{bar:-20b}')\n",
        "#   counter = 0\n",
        "#   valid_running_loss = 0.0\n",
        "#   iou_eval = IOUEval(len(label_color))\n",
        "#   label_colors_list = list(label_color.values())\n",
        "#   for i, data in enumerate(prog_bar):\n",
        "#       counter += 1\n",
        "#       data, target = data[0].to(device), data[1].to(device)\n",
        "#       data = torch.autograd.Variable(data, requires_grad=False).to(device) # Load image\n",
        "#       ann = torch.autograd.Variable(target, requires_grad=False).to(device) # Load annotation\n",
        "#       ann = ann.squeeze()\n",
        "#       outputs = model(data)['out'] # make prediction\n",
        "\n",
        "#       # if i == BATCH_SIZE - 1:\n",
        "#       #   draw_translucent_seg_maps(\n",
        "#       #               data,\n",
        "#       #               outputs,\n",
        "#       #               epoch,\n",
        "#       #               i,\n",
        "#       #               save_dir,\n",
        "#       #               label_colors_list,\n",
        "#       #           )\n",
        "\n",
        "\n",
        "\n",
        "#       model.zero_grad()\n",
        "#       # criterion = torch.nn.CrossEntropyLoss() # Set loss function\n",
        "#       loss = criterion(outputs, ann.long()) # Calculate cross entropy loss\n",
        "#       valid_running_loss += loss.item()\n",
        "#       loss.backward() # Backpropagate loss\n",
        "#       optimizer.step() # Apply gradient descent change to weight\n",
        "#       seg = torch.argmax(outputs[0], 0).cpu().detach().numpy()  # Get prediction classes\n",
        "#       # print(i, Training Loss=\", loss.data.cpu().numpy())\n",
        "#       # iou_eval.addBatch(outputs.max(1)[1].data, target.data)\n",
        "\n",
        "\n",
        "#   valid_loss = valid_running_loss / counter\n",
        "#   # overall_acc, per_class_acc, per_class_iu, mIOU = iou_eval.getMetric()\n",
        "\n",
        "#   return valid_loss"
      ]
    },
    {
      "cell_type": "code",
      "execution_count": null,
      "metadata": {
        "id": "ScJLcKSX3MZH"
      },
      "outputs": [],
      "source": [
        "# # Initialize `SaveBestModel` class.\n",
        "# save_best_model = SaveBestModel()\n",
        "# save_best_iou = SaveBestModelIOU()"
      ]
    },
    {
      "cell_type": "code",
      "execution_count": null,
      "metadata": {
        "id": "uF_glwsGeer9"
      },
      "outputs": [],
      "source": [
        "# device = torch.device('cuda:0' if torch.cuda.is_available() else 'cpu')\n",
        "# model = prepare_model(num_classes=len(ALL_CLASSES)).to(device)\n",
        "# print(device)\n",
        "# # if LOAD_MODEL:\n",
        "# #   ckpt = torch.load(\"outputs/model.pth\", map_location='cpu')\n",
        "# #   model.load_state_dict(ckpt['model_state_dict'])\n",
        "\n",
        "# # Total parameters and trainable parameters.\n",
        "# total_params = sum(p.numel() for p in model.parameters())\n",
        "# print(f\"{total_params:,} total parameters.\")\n",
        "# total_trainable_params = sum(\n",
        "#     p.numel() for p in model.parameters() if p.requires_grad)\n",
        "# print(f\"{total_trainable_params:,} training parameters.\")\n",
        "\n",
        "# optimizer = torch.optim.SGD(model.parameters(), lr=0.0001)\n",
        "# criterion = nn.CrossEntropyLoss()\n"
      ]
    },
    {
      "cell_type": "code",
      "execution_count": null,
      "metadata": {
        "id": "lQji4onaDDnN"
      },
      "outputs": [],
      "source": [
        "# scheduler = MultiStepLR(\n",
        "#     optimizer, milestones=[60], gamma=0.1, verbose=True\n",
        "# )"
      ]
    },
    {
      "cell_type": "code",
      "execution_count": null,
      "metadata": {
        "id": "maOeugsWxPnC"
      },
      "outputs": [],
      "source": [
        "# out_dir_valid_preds = os.path.join(path, 'outputs', 'valid_preds')"
      ]
    },
    {
      "cell_type": "code",
      "execution_count": null,
      "metadata": {
        "id": "eo_F4e5pxRdI"
      },
      "outputs": [],
      "source": [
        "# os.path.isdir(out_dir_valid_preds)"
      ]
    },
    {
      "cell_type": "code",
      "execution_count": null,
      "metadata": {
        "id": "CF7idiXB0U-K"
      },
      "outputs": [],
      "source": [
        "# EPOCHS = 20\n",
        "# criterion = torch.nn.CrossEntropyLoss()"
      ]
    },
    {
      "cell_type": "code",
      "execution_count": null,
      "metadata": {
        "id": "mZ7BIH2sU64N"
      },
      "outputs": [],
      "source": [
        "# train_loss, train_pix_acc, train_miou = [], [], []\n",
        "# valid_loss, valid_pix_acc, valid_miou = [], [], []\n",
        "# for epoch in range (EPOCHS):\n",
        "#     print(f\"EPOCH: {epoch + 1}\")\n",
        "#     train_epoch_loss, train_epoch_pixacc, train_epoch_miou = train(\n",
        "#         Net,\n",
        "#         train_dataloader,\n",
        "#         device,\n",
        "#         optimizer,\n",
        "#         criterion,\n",
        "#         ALL_CLASSES\n",
        "#     )\n",
        "#     valid_epoch_loss, valid_epoch_pixacc, valid_epoch_miou = validate(\n",
        "#         Net,\n",
        "#         valid_dataloader,\n",
        "#         device,\n",
        "#         criterion,\n",
        "#         label_color,\n",
        "#         epoch,\n",
        "#         save_dir=out_dir_valid_preds\n",
        "#     )\n",
        "#     train_loss.append(train_epoch_loss)\n",
        "#     train_pix_acc.append(train_epoch_pixacc)\n",
        "#     train_miou.append(train_epoch_miou)\n",
        "#     valid_loss.append(valid_epoch_loss)\n",
        "#     valid_pix_acc.append(valid_epoch_pixacc)\n",
        "#     valid_miou.append(valid_epoch_miou)\n",
        "\n",
        "#     save_best_model(\n",
        "#         valid_epoch_loss, epoch, Net, out_dir, name='model_loss'\n",
        "#     )\n",
        "#     save_best_iou(\n",
        "#         valid_epoch_miou, epoch, Net, out_dir, name='model_iou'\n",
        "#     )\n",
        "\n",
        "#     print(\n",
        "#         f\"Train Epoch Loss: {train_epoch_loss:.4f},\",\n",
        "#         f\"Train Epoch PixAcc: {train_epoch_pixacc:.4f},\",\n",
        "#         f\"Train Epoch mIOU: {train_epoch_miou:4f}\"\n",
        "#     )\n",
        "#     print(\n",
        "#         f\"Valid Epoch Loss: {valid_epoch_loss:.4f},\",\n",
        "#         f\"Valid Epoch PixAcc: {valid_epoch_pixacc:.4f}\",\n",
        "#         f\"Valid Epoch mIOU: {valid_epoch_miou:4f}\"\n",
        "#     )\n",
        "#     if True:\n",
        "#         scheduler.step()\n",
        "#     print('-' * 50)\n",
        "\n",
        "# # save_model(EPOCHS, Net, optimizer, criterion, out_dir, name='model')\n",
        "# # Save the loss and accuracy plots.\n",
        "# save_plots(\n",
        "#     train_pix_acc, valid_pix_acc,\n",
        "#     train_loss, valid_loss,\n",
        "#     train_miou, valid_miou,\n",
        "#     out_dir\n",
        "# )\n",
        "# print('TRAINING COMPLETE')"
      ]
    },
    {
      "cell_type": "code",
      "execution_count": null,
      "metadata": {
        "id": "oV17ynw1DDVE"
      },
      "outputs": [],
      "source": [
        "# train_loss, train_pix_acc, train_miou = [], [], []\n",
        "# valid_loss, valid_pix_acc, valid_miou = [], [], []\n",
        "# for epoch in range (EPOCHS):\n",
        "#     print(f\"EPOCH: {epoch + 1}\")\n",
        "#     train_epoch_loss, train_epoch_pixacc, train_epoch_miou = train(\n",
        "#         Net,\n",
        "#         train_dataloader,\n",
        "#         device,\n",
        "#         optimizer,\n",
        "#         criterion,\n",
        "#         ALL_CLASSES\n",
        "#     )\n",
        "#     valid_epoch_loss, valid_epoch_pixacc, valid_epoch_miou = validate(\n",
        "#         Net,\n",
        "#         valid_dataloader,\n",
        "#         device,\n",
        "#         criterion,\n",
        "#         label_color,\n",
        "#         epoch,\n",
        "#         save_dir=out_dir_valid_preds\n",
        "#     )\n",
        "#     train_loss.append(train_epoch_loss)\n",
        "#     train_pix_acc.append(train_epoch_pixacc)\n",
        "#     train_miou.append(train_epoch_miou)\n",
        "#     valid_loss.append(valid_epoch_loss)\n",
        "#     valid_pix_acc.append(valid_epoch_pixacc)\n",
        "#     valid_miou.append(valid_epoch_miou)\n",
        "\n",
        "#     save_best_model(\n",
        "#         valid_epoch_loss, epoch, Net, out_dir, name='model_loss'\n",
        "#     )\n",
        "#     save_best_iou(\n",
        "#         valid_epoch_miou, epoch, Net, out_dir, name='model_iou'\n",
        "#     )\n",
        "\n",
        "#     print(\n",
        "#         f\"Train Epoch Loss: {train_epoch_loss:.4f},\",\n",
        "#         f\"Train Epoch PixAcc: {train_epoch_pixacc:.4f},\",\n",
        "#         f\"Train Epoch mIOU: {train_epoch_miou:4f}\"\n",
        "#     )\n",
        "#     print(\n",
        "#         f\"Valid Epoch Loss: {valid_epoch_loss:.4f},\",\n",
        "#         f\"Valid Epoch PixAcc: {valid_epoch_pixacc:.4f}\",\n",
        "#         f\"Valid Epoch mIOU: {valid_epoch_miou:4f}\"\n",
        "#     )\n",
        "#     if True:\n",
        "#         scheduler.step()\n",
        "#     print('-' * 50)\n",
        "\n",
        "# # save_model(EPOCHS, Net, optimizer, criterion, out_dir, name='model')\n",
        "# # Save the loss and accuracy plots.\n",
        "# save_plots(\n",
        "#     train_pix_acc, valid_pix_acc,\n",
        "#     train_loss, valid_loss,\n",
        "#     train_miou, valid_miou,\n",
        "#     out_dir\n",
        "# )\n",
        "# print('TRAINING COMPLETE')"
      ]
    },
    {
      "cell_type": "code",
      "execution_count": null,
      "metadata": {
        "id": "x50y4gLllivM"
      },
      "outputs": [],
      "source": [
        "# device = torch.device('cuda' if torch.cuda.is_available() else 'cpu')\n",
        "\n",
        "# model = prepare_model(num_classes=len(ALL_CLASSES)).to(device)\n",
        "# ckpt = torch.load(\"outputs/model.pth\", map_location='cpu')\n",
        "# model.load_state_dict(ckpt['model_state_dict'])\n",
        "# model.eval().to(device)"
      ]
    },
    {
      "cell_type": "code",
      "execution_count": null,
      "metadata": {
        "id": "nIFjFy3nc_d6"
      },
      "outputs": [],
      "source": [
        "#valid_images, valid_masks"
      ]
    },
    {
      "cell_type": "code",
      "execution_count": null,
      "metadata": {
        "id": "5IC1pC1zctMc"
      },
      "outputs": [],
      "source": [
        "# image = cv2.imread(valid_images[0])\n",
        "# image = cv2.cvtColor(image, cv2.COLOR_BGR2RGB)\n",
        "\n",
        "# if IMG_SIZE is not None:\n",
        "#     image = cv2.resize(image, (int(IMG_SIZE), int(IMG_SIZE)))"
      ]
    }
  ],
  "metadata": {
    "colab": {
      "machine_shape": "hm",
      "provenance": [],
      "gpuType": "A100",
      "authorship_tag": "ABX9TyP8tZhWKx6nAcj7jC2R90Uz",
      "include_colab_link": true
    },
    "kernelspec": {
      "display_name": "Python 3",
      "name": "python3"
    },
    "language_info": {
      "name": "python"
    },
    "accelerator": "GPU"
  },
  "nbformat": 4,
  "nbformat_minor": 0
}